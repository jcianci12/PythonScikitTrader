{
 "cells": [
  {
   "cell_type": "code",
   "execution_count": 29,
   "metadata": {},
   "outputs": [],
   "source": [
    "import datetime\n",
    "from backtesting import Backtest, Strategy\n",
    "from backtesting.lib import crossover\n",
    "\n",
    "from backtesting.test import SMA, GOOG\n",
    "from bokeh.plotting import figure, output_file, save\n",
    "from matplotlib import category\n",
    "\n",
    "from bybitapi import fetch_bybit_data_v5\n",
    "from config import INTERVAL\n",
    "import pandas as pd\n",
    "import backtesting"
   ]
  },
  {
   "cell_type": "code",
   "execution_count": 30,
   "metadata": {},
   "outputs": [],
   "source": [
    "category = 'spot'\n",
    "pair = 'BTCUSDT'\n",
    "end_date = datetime.datetime.now()\n",
    "start_date = end_date -datetime.timedelta(1)"
   ]
  },
  {
   "cell_type": "code",
   "execution_count": 31,
   "metadata": {},
   "outputs": [],
   "source": [
    "\n",
    "\n",
    "from TrainAndTest import loadmodel\n",
    "from TrainingandValidation import TrainingAndValidation\n",
    "from prep_data import prep_data\n",
    "\n",
    "def IncIndicator(data,model) :\n",
    "        \"\"\"\n",
    "        Returns `n`-period simple moving average of array `arr`.\n",
    "        \"\"\"\n",
    "        return model.predict(data)\n",
    "\n",
    "class SmaCross(Strategy):\n",
    "    n1 = 10\n",
    "    n2 = 20\n",
    "\n",
    "    def init(self):\n",
    "        model = loadmodel(\"BTCUSDT\",\"ensembleinc\")\n",
    "        data = self.data\n",
    "\n",
    "        self.decision = self.I(IncIndicator,data,model)\n",
    "        # close = self.data.Close\n",
    "        # self.sma1 = self.I(SMA, close, self.n1)\n",
    "        # self.sma2 = self.I(SMA, close, self.n2)\n",
    "    \n",
    "    def next(self):\n",
    "        if self.decision==1:\n",
    "            self.buy()\n",
    "        else:\n",
    "            self.sell()\n",
    "\n",
    "\n",
    "\n",
    "class Train():\n",
    "    trainingdata = []\n",
    "        \n",
    "    def get_data(self):\n",
    "        \n",
    "        #fetch the data\n",
    "        data = fetch_bybit_data_v5(True,start_date,end_date,pair,INTERVAL,category)\n",
    "        \n",
    "        return data\n",
    "    \n"
   ]
  },
  {
   "cell_type": "code",
   "execution_count": 32,
   "metadata": {},
   "outputs": [
    {
     "name": "stdout",
     "output_type": "stream",
     "text": [
      "there are  1 total days in the range.\n",
      "total_intervals: 288.0\n",
      "intervals: [[1688625030.029167, 1688685030.029167], [1688685030.029167, 1688745030.029167]]\n",
      "Fetching historical data from 2023-07-06 06:30:30.029167 to 2023-07-06 23:10:30.029167\n"
     ]
    },
    {
     "name": "stdout",
     "output_type": "stream",
     "text": [
      "Fetching historical data from 2023-07-06 23:10:30.029167 to 2023-07-07 15:50:30.029167\n"
     ]
    },
    {
     "name": "stderr",
     "output_type": "stream",
     "text": [
      "/workspace/bybitapi.py:99: FutureWarning: The behavior of 'to_datetime' with 'unit' when parsing strings is deprecated. In a future version, strings will be parsed as datetime strings, matching the behavior without a 'unit'. To retain the old behavior, explicitly cast ints or floats to numeric type before calling to_datetime.\n",
      "  df_new['timestamp'] = pd.to_datetime(df_new['open_time'], unit='ms')\n"
     ]
    },
    {
     "name": "stdout",
     "output_type": "stream",
     "text": [
      "returning new\n",
      "                             open_time      open      high       low  \\\n",
      "timestamp                                                              \n",
      "2023-07-06 06:35:48.608  1688625300000  29830.46  29863.48  29830.46   \n",
      "2023-07-06 06:40:10.752  1688625600000  29863.47  29870.29  29863.47   \n",
      "...                                ...       ...       ...       ...   \n",
      "2023-07-07 06:24:29.696  1688711100000  30136.29  30154.06  30104.92   \n",
      "2023-07-07 06:31:02.912  1688711400000   30143.7   30143.7  30140.25   \n",
      "\n",
      "                            close    volume       turnover  \n",
      "timestamp                                                   \n",
      "2023-07-06 06:35:48.608  29863.47   0.13138  3922.36833465  \n",
      "2023-07-06 06:40:10.752  29870.29  0.065886  1967.87736835  \n",
      "...                           ...       ...            ...  \n",
      "2023-07-07 06:24:29.696   30143.7  0.035206  1061.10714866  \n",
      "2023-07-07 06:31:02.912  30140.25  0.013024   392.58472815  \n",
      "\n",
      "[289 rows x 7 columns]\n",
      "logging 2023-07-07 06:30:31.319499: REAL MODE Starting training\n",
      "2023-07-06 06:35:48.608000\n",
      "2023-07-06 07:26:03.264000\n",
      "2023-07-06 08:14:06.848000\n",
      "2023-07-06 09:04:21.504000\n",
      "2023-07-06 09:54:36.160000\n",
      "2023-07-06 10:44:50.816000\n",
      "2023-07-06 11:35:05.472000\n",
      "2023-07-06 12:25:20.128000\n",
      "2023-07-06 13:15:34.784000\n",
      "2023-07-06 14:05:49.440000\n",
      "2023-07-06 14:56:04.096000\n",
      "2023-07-06 15:44:07.680000\n",
      "2023-07-06 16:34:22.336000\n",
      "2023-07-06 17:24:36.992000\n",
      "2023-07-06 18:14:51.648000\n",
      "2023-07-06 19:05:06.304000\n",
      "2023-07-06 19:55:20.960000\n",
      "2023-07-06 20:45:35.616000\n",
      "2023-07-06 21:35:50.272000\n",
      "2023-07-06 22:26:04.928000\n",
      "2023-07-06 23:14:08.512000\n",
      "2023-07-07 00:04:23.168000\n",
      "logging 2023-07-07 06:30:58.782923: REAL MODE Ensemble Accuracy Inc = 0.6515151515151515\n",
      "logging 2023-07-07 06:30:58.783555: REAL MODE Ensemble Accuracy Dec = 0.6515151515151515\n",
      "logging 2023-07-07 06:30:58.784084: REAL MODE saving model file as  BTCUSDT_5_2023-07-06 06:30:30.029167_2023-07-07 06:30:30.029167_rfinc.joblib\n",
      "logging 2023-07-07 06:30:58.961663: REAL MODE saving model file as  BTCUSDT_5_2023-07-06 06:30:30.029167_2023-07-07 06:30:30.029167_knninc.joblib\n",
      "logging 2023-07-07 06:30:58.966655: REAL MODE saving model file as  BTCUSDT_5_2023-07-06 06:30:30.029167_2023-07-07 06:30:30.029167_ensembleinc.joblib\n",
      "logging 2023-07-07 06:30:59.344938: REAL MODE saving model file as  BTCUSDT_5_2023-07-06 06:30:30.029167_2023-07-07 06:30:30.029167_rf.joblib\n",
      "logging 2023-07-07 06:30:59.555032: REAL MODE saving model file as  BTCUSDT_5_2023-07-06 06:30:30.029167_2023-07-07 06:30:30.029167_ensembledec.joblib\n",
      "logging 2023-07-07 06:31:00.022990: REAL MODE Finished training\n"
     ]
    }
   ],
   "source": [
    "\n",
    "train = Train()\n",
    "data = train.get_data()\n",
    "trainingdata = prep_data(data)\n",
    "\n",
    "tv = TrainingAndValidation()\n",
    "\n",
    "tv.train_and_cross_validate(trainingdata,\"BTCUSDT\",start_date,end_date,INTERVAL)"
   ]
  },
  {
   "cell_type": "code",
   "execution_count": 33,
   "metadata": {},
   "outputs": [],
   "source": [
    "\n",
    "df = data.loc[:, ['open', 'high', 'low', 'close', 'volume']]\n",
    "df.rename(columns={'open': 'Open', 'high': 'High', 'low': 'Low', 'close': 'Close', 'volume': 'Volume'}, inplace=True)\n",
    "df.index = df.index.strftime('%Y-%m-%d %H:%M')\n",
    "df.index = pd.to_datetime(df.index)\n",
    "df = df.dropna()\n",
    "\n"
   ]
  },
  {
   "cell_type": "code",
   "execution_count": 36,
   "metadata": {},
   "outputs": [
    {
     "name": "stdout",
     "output_type": "stream",
     "text": [
      "                         Open      High       Low     Close    Volume\n",
      "timestamp                                                            \n",
      "2023-07-06 06:35:00  29830.46  29863.48  29830.46  29863.47   0.13138\n",
      "2023-07-06 06:40:00  29863.47  29870.29  29863.47  29870.29  0.065886\n",
      "...                       ...       ...       ...       ...       ...\n",
      "2023-07-07 06:24:00  30136.29  30154.06  30104.92   30143.7  0.035206\n",
      "2023-07-07 06:31:00   30143.7   30143.7  30140.25  30140.25  0.013024\n",
      "\n",
      "[288 rows x 5 columns]\n"
     ]
    },
    {
     "ename": "KeyError",
     "evalue": "'close'",
     "output_type": "error",
     "traceback": [
      "\u001b[0;31m---------------------------------------------------------------------------\u001b[0m",
      "\u001b[0;31mKeyError\u001b[0m                                  Traceback (most recent call last)",
      "File \u001b[0;32m/usr/local/lib/python3.10/site-packages/pandas/core/indexes/base.py:3653\u001b[0m, in \u001b[0;36mIndex.get_loc\u001b[0;34m(self, key)\u001b[0m\n\u001b[1;32m   3652\u001b[0m \u001b[39mtry\u001b[39;00m:\n\u001b[0;32m-> 3653\u001b[0m     \u001b[39mreturn\u001b[39;00m \u001b[39mself\u001b[39;49m\u001b[39m.\u001b[39;49m_engine\u001b[39m.\u001b[39;49mget_loc(casted_key)\n\u001b[1;32m   3654\u001b[0m \u001b[39mexcept\u001b[39;00m \u001b[39mKeyError\u001b[39;00m \u001b[39mas\u001b[39;00m err:\n",
      "File \u001b[0;32m/usr/local/lib/python3.10/site-packages/pandas/_libs/index.pyx:147\u001b[0m, in \u001b[0;36mpandas._libs.index.IndexEngine.get_loc\u001b[0;34m()\u001b[0m\n",
      "File \u001b[0;32m/usr/local/lib/python3.10/site-packages/pandas/_libs/index.pyx:176\u001b[0m, in \u001b[0;36mpandas._libs.index.IndexEngine.get_loc\u001b[0;34m()\u001b[0m\n",
      "File \u001b[0;32mpandas/_libs/hashtable_class_helper.pxi:7080\u001b[0m, in \u001b[0;36mpandas._libs.hashtable.PyObjectHashTable.get_item\u001b[0;34m()\u001b[0m\n",
      "File \u001b[0;32mpandas/_libs/hashtable_class_helper.pxi:7088\u001b[0m, in \u001b[0;36mpandas._libs.hashtable.PyObjectHashTable.get_item\u001b[0;34m()\u001b[0m\n",
      "\u001b[0;31mKeyError\u001b[0m: 'close'",
      "\nThe above exception was the direct cause of the following exception:\n",
      "\u001b[0;31mKeyError\u001b[0m                                  Traceback (most recent call last)",
      "Cell \u001b[0;32mIn[36], line 2\u001b[0m\n\u001b[1;32m      1\u001b[0m \u001b[39mprint\u001b[39m(df)\n\u001b[0;32m----> 2\u001b[0m prepped_df \u001b[39m=\u001b[39m prep_data(df)\n\u001b[1;32m      3\u001b[0m \u001b[39mprint\u001b[39m(prepped_df)\n",
      "File \u001b[0;32m/workspace/prep_data.py:32\u001b[0m, in \u001b[0;36mprep_data\u001b[0;34m(data)\u001b[0m\n\u001b[1;32m     30\u001b[0m data \u001b[39m=\u001b[39m _exponential_smooth(data,\u001b[39m0.65\u001b[39m)\n\u001b[1;32m     31\u001b[0m \u001b[39m#produce indicators\u001b[39;00m\n\u001b[0;32m---> 32\u001b[0m data \u001b[39m=\u001b[39m _produce_movement_indicators(data)\n\u001b[1;32m     33\u001b[0m \u001b[39m#drop na data\u001b[39;00m\n\u001b[1;32m     34\u001b[0m data \u001b[39m=\u001b[39m (\n\u001b[1;32m     35\u001b[0m     data\u001b[39m.\u001b[39mdropna()\n\u001b[1;32m     36\u001b[0m )  \u001b[39m# Some indicators produce NaN values for the first few rows, we just remove them here\u001b[39;00m\n",
      "File \u001b[0;32m/workspace/prep_data.py:18\u001b[0m, in \u001b[0;36m_produce_movement_indicators\u001b[0;34m(data)\u001b[0m\n\u001b[1;32m     11\u001b[0m \u001b[39mdef\u001b[39;00m \u001b[39m_produce_movement_indicators\u001b[39m(data):\n\u001b[1;32m     12\u001b[0m \u001b[39m    \u001b[39m\u001b[39m\"\"\"\u001b[39;00m\n\u001b[1;32m     13\u001b[0m \u001b[39m    Function that produces the 'truth' values\u001b[39;00m\n\u001b[1;32m     14\u001b[0m \u001b[39m    At a given row, it looks 'window' rows ahead to see if the price increased (1) or decreased (0)\u001b[39;00m\n\u001b[1;32m     15\u001b[0m \u001b[39m    :param window: number of days, or rows to look ahead to see what the price did\u001b[39;00m\n\u001b[1;32m     16\u001b[0m \u001b[39m    \"\"\"\u001b[39;00m\n\u001b[0;32m---> 18\u001b[0m     predictionup \u001b[39m=\u001b[39m data\u001b[39m.\u001b[39;49mshift(\u001b[39m-\u001b[39;49mLOOKAHEADVALUE)[\u001b[39m\"\u001b[39;49m\u001b[39mclose\u001b[39;49m\u001b[39m\"\u001b[39;49m] \u001b[39m>\u001b[39m\u001b[39m=\u001b[39m data[\u001b[39m\"\u001b[39m\u001b[39mclose\u001b[39m\u001b[39m\"\u001b[39m]\n\u001b[1;32m     19\u001b[0m     predictionup \u001b[39m=\u001b[39m predictionup\u001b[39m.\u001b[39miloc[:\u001b[39m-\u001b[39mLOOKAHEADVALUE]\n\u001b[1;32m     20\u001b[0m     data[\u001b[39m\"\u001b[39m\u001b[39mpred\u001b[39m\u001b[39m\"\u001b[39m] \u001b[39m=\u001b[39m predictionup\u001b[39m.\u001b[39mastype(\u001b[39mint\u001b[39m)\n",
      "File \u001b[0;32m/usr/local/lib/python3.10/site-packages/pandas/core/frame.py:3761\u001b[0m, in \u001b[0;36mDataFrame.__getitem__\u001b[0;34m(self, key)\u001b[0m\n\u001b[1;32m   3759\u001b[0m \u001b[39mif\u001b[39;00m \u001b[39mself\u001b[39m\u001b[39m.\u001b[39mcolumns\u001b[39m.\u001b[39mnlevels \u001b[39m>\u001b[39m \u001b[39m1\u001b[39m:\n\u001b[1;32m   3760\u001b[0m     \u001b[39mreturn\u001b[39;00m \u001b[39mself\u001b[39m\u001b[39m.\u001b[39m_getitem_multilevel(key)\n\u001b[0;32m-> 3761\u001b[0m indexer \u001b[39m=\u001b[39m \u001b[39mself\u001b[39;49m\u001b[39m.\u001b[39;49mcolumns\u001b[39m.\u001b[39;49mget_loc(key)\n\u001b[1;32m   3762\u001b[0m \u001b[39mif\u001b[39;00m is_integer(indexer):\n\u001b[1;32m   3763\u001b[0m     indexer \u001b[39m=\u001b[39m [indexer]\n",
      "File \u001b[0;32m/usr/local/lib/python3.10/site-packages/pandas/core/indexes/base.py:3655\u001b[0m, in \u001b[0;36mIndex.get_loc\u001b[0;34m(self, key)\u001b[0m\n\u001b[1;32m   3653\u001b[0m     \u001b[39mreturn\u001b[39;00m \u001b[39mself\u001b[39m\u001b[39m.\u001b[39m_engine\u001b[39m.\u001b[39mget_loc(casted_key)\n\u001b[1;32m   3654\u001b[0m \u001b[39mexcept\u001b[39;00m \u001b[39mKeyError\u001b[39;00m \u001b[39mas\u001b[39;00m err:\n\u001b[0;32m-> 3655\u001b[0m     \u001b[39mraise\u001b[39;00m \u001b[39mKeyError\u001b[39;00m(key) \u001b[39mfrom\u001b[39;00m \u001b[39merr\u001b[39;00m\n\u001b[1;32m   3656\u001b[0m \u001b[39mexcept\u001b[39;00m \u001b[39mTypeError\u001b[39;00m:\n\u001b[1;32m   3657\u001b[0m     \u001b[39m# If we have a listlike key, _check_indexing_error will raise\u001b[39;00m\n\u001b[1;32m   3658\u001b[0m     \u001b[39m#  InvalidIndexError. Otherwise we fall through and re-raise\u001b[39;00m\n\u001b[1;32m   3659\u001b[0m     \u001b[39m#  the TypeError.\u001b[39;00m\n\u001b[1;32m   3660\u001b[0m     \u001b[39mself\u001b[39m\u001b[39m.\u001b[39m_check_indexing_error(key)\n",
      "\u001b[0;31mKeyError\u001b[0m: 'close'"
     ]
    }
   ],
   "source": [
    "print(df)\n",
    "prepped_df = prep_data(df)\n",
    "print(prepped_df)\n"
   ]
  },
  {
   "cell_type": "code",
   "execution_count": 34,
   "metadata": {},
   "outputs": [
    {
     "ename": "TypeError",
     "evalue": "'>' not supported between instances of 'str' and 'int'",
     "output_type": "error",
     "traceback": [
      "\u001b[0;31m---------------------------------------------------------------------------\u001b[0m",
      "\u001b[0;31mTypeError\u001b[0m                                 Traceback (most recent call last)",
      "Cell \u001b[0;32mIn[34], line 2\u001b[0m\n\u001b[1;32m      1\u001b[0m backtesting\u001b[39m.\u001b[39mset_bokeh_output(notebook\u001b[39m=\u001b[39m\u001b[39mTrue\u001b[39;00m)\n\u001b[0;32m----> 2\u001b[0m bt \u001b[39m=\u001b[39m Backtest(df, SmaCross,\n\u001b[1;32m      3\u001b[0m               cash\u001b[39m=\u001b[39;49m\u001b[39m100000\u001b[39;49m, commission\u001b[39m=\u001b[39;49m\u001b[39m.002\u001b[39;49m,\n\u001b[1;32m      4\u001b[0m               exclusive_orders\u001b[39m=\u001b[39;49m\u001b[39mTrue\u001b[39;49;00m)\n\u001b[1;32m      5\u001b[0m output \u001b[39m=\u001b[39m bt\u001b[39m.\u001b[39mrun()\n\u001b[1;32m      6\u001b[0m bt\u001b[39m.\u001b[39mplot()\n",
      "File \u001b[0;32m/usr/local/lib/python3.10/site-packages/backtesting/backtesting.py:1073\u001b[0m, in \u001b[0;36mBacktest.__init__\u001b[0;34m(self, data, strategy, cash, commission, margin, trade_on_close, hedging, exclusive_orders)\u001b[0m\n\u001b[1;32m   1069\u001b[0m \u001b[39mif\u001b[39;00m data[[\u001b[39m'\u001b[39m\u001b[39mOpen\u001b[39m\u001b[39m'\u001b[39m, \u001b[39m'\u001b[39m\u001b[39mHigh\u001b[39m\u001b[39m'\u001b[39m, \u001b[39m'\u001b[39m\u001b[39mLow\u001b[39m\u001b[39m'\u001b[39m, \u001b[39m'\u001b[39m\u001b[39mClose\u001b[39m\u001b[39m'\u001b[39m]]\u001b[39m.\u001b[39misnull()\u001b[39m.\u001b[39mvalues\u001b[39m.\u001b[39many():\n\u001b[1;32m   1070\u001b[0m     \u001b[39mraise\u001b[39;00m \u001b[39mValueError\u001b[39;00m(\u001b[39m'\u001b[39m\u001b[39mSome OHLC values are missing (NaN). \u001b[39m\u001b[39m'\u001b[39m\n\u001b[1;32m   1071\u001b[0m                      \u001b[39m'\u001b[39m\u001b[39mPlease strip those lines with `df.dropna()` or \u001b[39m\u001b[39m'\u001b[39m\n\u001b[1;32m   1072\u001b[0m                      \u001b[39m'\u001b[39m\u001b[39mfill them in with `df.interpolate()` or whatever.\u001b[39m\u001b[39m'\u001b[39m)\n\u001b[0;32m-> 1073\u001b[0m \u001b[39mif\u001b[39;00m np\u001b[39m.\u001b[39many(data[\u001b[39m'\u001b[39;49m\u001b[39mClose\u001b[39;49m\u001b[39m'\u001b[39;49m] \u001b[39m>\u001b[39;49m cash):\n\u001b[1;32m   1074\u001b[0m     warnings\u001b[39m.\u001b[39mwarn(\u001b[39m'\u001b[39m\u001b[39mSome prices are larger than initial cash value. Note that fractional \u001b[39m\u001b[39m'\u001b[39m\n\u001b[1;32m   1075\u001b[0m                   \u001b[39m'\u001b[39m\u001b[39mtrading is not supported. If you want to trade Bitcoin, \u001b[39m\u001b[39m'\u001b[39m\n\u001b[1;32m   1076\u001b[0m                   \u001b[39m'\u001b[39m\u001b[39mincrease initial cash, or trade μBTC or satoshis instead (GH-134).\u001b[39m\u001b[39m'\u001b[39m,\n\u001b[1;32m   1077\u001b[0m                   stacklevel\u001b[39m=\u001b[39m\u001b[39m2\u001b[39m)\n\u001b[1;32m   1078\u001b[0m \u001b[39mif\u001b[39;00m \u001b[39mnot\u001b[39;00m data\u001b[39m.\u001b[39mindex\u001b[39m.\u001b[39mis_monotonic_increasing:\n",
      "File \u001b[0;32m/usr/local/lib/python3.10/site-packages/pandas/core/ops/common.py:81\u001b[0m, in \u001b[0;36m_unpack_zerodim_and_defer.<locals>.new_method\u001b[0;34m(self, other)\u001b[0m\n\u001b[1;32m     77\u001b[0m             \u001b[39mreturn\u001b[39;00m \u001b[39mNotImplemented\u001b[39m\n\u001b[1;32m     79\u001b[0m other \u001b[39m=\u001b[39m item_from_zerodim(other)\n\u001b[0;32m---> 81\u001b[0m \u001b[39mreturn\u001b[39;00m method(\u001b[39mself\u001b[39;49m, other)\n",
      "File \u001b[0;32m/usr/local/lib/python3.10/site-packages/pandas/core/arraylike.py:56\u001b[0m, in \u001b[0;36mOpsMixin.__gt__\u001b[0;34m(self, other)\u001b[0m\n\u001b[1;32m     54\u001b[0m \u001b[39m@unpack_zerodim_and_defer\u001b[39m(\u001b[39m\"\u001b[39m\u001b[39m__gt__\u001b[39m\u001b[39m\"\u001b[39m)\n\u001b[1;32m     55\u001b[0m \u001b[39mdef\u001b[39;00m \u001b[39m__gt__\u001b[39m(\u001b[39mself\u001b[39m, other):\n\u001b[0;32m---> 56\u001b[0m     \u001b[39mreturn\u001b[39;00m \u001b[39mself\u001b[39;49m\u001b[39m.\u001b[39;49m_cmp_method(other, operator\u001b[39m.\u001b[39;49mgt)\n",
      "File \u001b[0;32m/usr/local/lib/python3.10/site-packages/pandas/core/series.py:6096\u001b[0m, in \u001b[0;36mSeries._cmp_method\u001b[0;34m(self, other, op)\u001b[0m\n\u001b[1;32m   6093\u001b[0m rvalues \u001b[39m=\u001b[39m extract_array(other, extract_numpy\u001b[39m=\u001b[39m\u001b[39mTrue\u001b[39;00m, extract_range\u001b[39m=\u001b[39m\u001b[39mTrue\u001b[39;00m)\n\u001b[1;32m   6095\u001b[0m \u001b[39mwith\u001b[39;00m np\u001b[39m.\u001b[39merrstate(\u001b[39mall\u001b[39m\u001b[39m=\u001b[39m\u001b[39m\"\u001b[39m\u001b[39mignore\u001b[39m\u001b[39m\"\u001b[39m):\n\u001b[0;32m-> 6096\u001b[0m     res_values \u001b[39m=\u001b[39m ops\u001b[39m.\u001b[39;49mcomparison_op(lvalues, rvalues, op)\n\u001b[1;32m   6098\u001b[0m \u001b[39mreturn\u001b[39;00m \u001b[39mself\u001b[39m\u001b[39m.\u001b[39m_construct_result(res_values, name\u001b[39m=\u001b[39mres_name)\n",
      "File \u001b[0;32m/usr/local/lib/python3.10/site-packages/pandas/core/ops/array_ops.py:293\u001b[0m, in \u001b[0;36mcomparison_op\u001b[0;34m(left, right, op)\u001b[0m\n\u001b[1;32m    290\u001b[0m     \u001b[39mreturn\u001b[39;00m invalid_comparison(lvalues, rvalues, op)\n\u001b[1;32m    292\u001b[0m \u001b[39melif\u001b[39;00m is_object_dtype(lvalues\u001b[39m.\u001b[39mdtype) \u001b[39mor\u001b[39;00m \u001b[39misinstance\u001b[39m(rvalues, \u001b[39mstr\u001b[39m):\n\u001b[0;32m--> 293\u001b[0m     res_values \u001b[39m=\u001b[39m comp_method_OBJECT_ARRAY(op, lvalues, rvalues)\n\u001b[1;32m    295\u001b[0m \u001b[39melse\u001b[39;00m:\n\u001b[1;32m    296\u001b[0m     res_values \u001b[39m=\u001b[39m _na_arithmetic_op(lvalues, rvalues, op, is_cmp\u001b[39m=\u001b[39m\u001b[39mTrue\u001b[39;00m)\n",
      "File \u001b[0;32m/usr/local/lib/python3.10/site-packages/pandas/core/ops/array_ops.py:82\u001b[0m, in \u001b[0;36mcomp_method_OBJECT_ARRAY\u001b[0;34m(op, x, y)\u001b[0m\n\u001b[1;32m     80\u001b[0m     result \u001b[39m=\u001b[39m libops\u001b[39m.\u001b[39mvec_compare(x\u001b[39m.\u001b[39mravel(), y\u001b[39m.\u001b[39mravel(), op)\n\u001b[1;32m     81\u001b[0m \u001b[39melse\u001b[39;00m:\n\u001b[0;32m---> 82\u001b[0m     result \u001b[39m=\u001b[39m libops\u001b[39m.\u001b[39;49mscalar_compare(x\u001b[39m.\u001b[39;49mravel(), y, op)\n\u001b[1;32m     83\u001b[0m \u001b[39mreturn\u001b[39;00m result\u001b[39m.\u001b[39mreshape(x\u001b[39m.\u001b[39mshape)\n",
      "File \u001b[0;32m/usr/local/lib/python3.10/site-packages/pandas/_libs/ops.pyx:107\u001b[0m, in \u001b[0;36mpandas._libs.ops.scalar_compare\u001b[0;34m()\u001b[0m\n",
      "\u001b[0;31mTypeError\u001b[0m: '>' not supported between instances of 'str' and 'int'"
     ]
    }
   ],
   "source": [
    "\n",
    "backtesting.set_bokeh_output(notebook=True)\n",
    "bt = Backtest(df, SmaCross,\n",
    "              cash=100000, commission=.002,\n",
    "              exclusive_orders=True)\n",
    "output = bt.run()\n",
    "bt.plot()\n",
    "print(output)\n",
    "\n",
    "    \n"
   ]
  }
 ],
 "metadata": {
  "kernelspec": {
   "display_name": "env1",
   "language": "python",
   "name": "env1"
  },
  "language_info": {
   "codemirror_mode": {
    "name": "ipython",
    "version": 3
   },
   "file_extension": ".py",
   "mimetype": "text/x-python",
   "name": "python",
   "nbconvert_exporter": "python",
   "pygments_lexer": "ipython3",
   "version": "3.10.9"
  },
  "orig_nbformat": 4
 },
 "nbformat": 4,
 "nbformat_minor": 2
}
