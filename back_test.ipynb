{
 "cells": [
  {
   "cell_type": "code",
   "execution_count": null,
   "metadata": {},
   "outputs": [],
   "source": [
    "import datetime\n",
    "from backtesting import Backtest, Strategy\n",
    "from backtesting.lib import crossover\n",
    "\n",
    "from backtesting.test import SMA, GOOG\n",
    "from bokeh.plotting import figure, output_file, save\n",
    "from matplotlib import category\n",
    "from TrainAndTest import _exponential_smooth, _produce_movement_indicators\n",
    "\n",
    "from bybitapi import fetch_bybit_data_v5\n",
    "from config import INTERVAL\n",
    "\n",
    "\n",
    "class SmaCross(Strategy):\n",
    "    n1 = 10\n",
    "    n2 = 20\n",
    "\n",
    "    def init(self):\n",
    "        close = self.data.Close\n",
    "        self.sma1 = self.I(SMA, close, self.n1)\n",
    "        self.sma2 = self.I(SMA, close, self.n2)\n",
    "\n",
    "    def next(self):\n",
    "        if crossover(self.sma1, self.sma2):\n",
    "            self.buy()\n",
    "        elif crossover(self.sma2, self.sma1):\n",
    "            self.sell()\n",
    "\n",
    "\n",
    "\n",
    "class Train():\n",
    "    def init(self):\n",
    "        end_date = datetime.datetime.now()\n",
    "        start_date = end_date -datetime.timedelta(2)\n",
    "        #fetch the data\n",
    "        trainingdata = fetch_bybit_data_v5(True,start_date,end_date,\"BTCUSDT\",INTERVAL,'spot')\n",
    "        #smooth the data\n",
    "        trainingdata = _exponential_smooth(trainingdata,0.65)\n",
    "        #produce indicators\n",
    "        trainingdata = _produce_movement_indicators(trainingdata)\n"
   ]
  },
  {
   "cell_type": "code",
   "execution_count": null,
   "metadata": {},
   "outputs": [],
   "source": [
    "\n",
    "bt = Backtest(GOOG, SmaCross,\n",
    "              cash=100000, commission=.002,\n",
    "              exclusive_orders=True)\n",
    "output = bt.run()\n",
    "# bt.plot()\n",
    "\n",
    "\n",
    "    \n"
   ]
  }
 ],
 "metadata": {
  "kernelspec": {
   "display_name": "env1",
   "language": "python",
   "name": "env1"
  },
  "language_info": {
   "codemirror_mode": {
    "name": "ipython",
    "version": 3
   },
   "file_extension": ".py",
   "mimetype": "text/x-python",
   "name": "python",
   "nbconvert_exporter": "python",
   "pygments_lexer": "ipython3",
   "version": "3.10.11"
  },
  "orig_nbformat": 4
 },
 "nbformat": 4,
 "nbformat_minor": 2
}
